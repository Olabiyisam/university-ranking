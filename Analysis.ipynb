{
 "cells": [
  {
   "cell_type": "markdown",
   "metadata": {},
   "source": [
    "# Ranking analysis\n",
    "\n",
    "Recently my alma-mater, EPFL, has been ranked as the best new university. Following that article I decided to anaylise university rankings and see how EPFL evolved in the ranking and what are the main criteria that influenced it's rise. Also I will analyse which criteria they can improve and which ranking they could expect in the future.\n",
    "\n",
    "We will use the data provided by Kaggle for the analysis: https://www.kaggle.com/mylesoneill/world-university-rankings\n",
    "\n",
    "## Times Higher Education\n",
    "\n",
    "Let's check the evolution of EPFL in the Times Education Ranking.\n"
   ]
  },
  {
   "cell_type": "code",
   "execution_count": 3,
   "metadata": {
    "collapsed": false
   },
   "outputs": [],
   "source": [
    "# Import the good stuff\n",
    "import warnings\n",
    "warnings.filterwarnings('ignore')\n",
    "\n",
    "import pandas as pd\n",
    "from pandas import Series,DataFrame\n",
    "import numpy as np\n",
    "import matplotlib.pyplot as plt\n",
    "import seaborn as sns\n",
    "%matplotlib inline"
   ]
  },
  {
   "cell_type": "code",
   "execution_count": 4,
   "metadata": {
    "collapsed": false
   },
   "outputs": [
    {
     "data": {
      "text/html": [
       "<div>\n",
       "<table border=\"1\" class=\"dataframe\">\n",
       "  <thead>\n",
       "    <tr style=\"text-align: right;\">\n",
       "      <th></th>\n",
       "      <th>world_rank</th>\n",
       "      <th>university_name</th>\n",
       "      <th>country</th>\n",
       "      <th>teaching</th>\n",
       "      <th>international</th>\n",
       "      <th>research</th>\n",
       "      <th>citations</th>\n",
       "      <th>income</th>\n",
       "      <th>total_score</th>\n",
       "      <th>num_students</th>\n",
       "      <th>student_staff_ratio</th>\n",
       "      <th>international_students</th>\n",
       "      <th>female_male_ratio</th>\n",
       "      <th>year</th>\n",
       "    </tr>\n",
       "  </thead>\n",
       "  <tbody>\n",
       "    <tr>\n",
       "      <th>47</th>\n",
       "      <td>48</td>\n",
       "      <td>École Polytechnique Fédérale de Lausanne</td>\n",
       "      <td>Switzerland</td>\n",
       "      <td>55.0</td>\n",
       "      <td>100.0</td>\n",
       "      <td>56.1</td>\n",
       "      <td>83.8</td>\n",
       "      <td>38.0</td>\n",
       "      <td>66.5</td>\n",
       "      <td>9,666</td>\n",
       "      <td>10.5</td>\n",
       "      <td>54%</td>\n",
       "      <td>27 : 73</td>\n",
       "      <td>2011</td>\n",
       "    </tr>\n",
       "    <tr>\n",
       "      <th>245</th>\n",
       "      <td>46</td>\n",
       "      <td>École Polytechnique Fédérale de Lausanne</td>\n",
       "      <td>Switzerland</td>\n",
       "      <td>53.1</td>\n",
       "      <td>98.9</td>\n",
       "      <td>43.9</td>\n",
       "      <td>95.3</td>\n",
       "      <td>46.7</td>\n",
       "      <td>66.3</td>\n",
       "      <td>9,666</td>\n",
       "      <td>10.5</td>\n",
       "      <td>54%</td>\n",
       "      <td>27 : 73</td>\n",
       "      <td>2012</td>\n",
       "    </tr>\n",
       "    <tr>\n",
       "      <th>641</th>\n",
       "      <td>40</td>\n",
       "      <td>École Polytechnique Fédérale de Lausanne</td>\n",
       "      <td>Switzerland</td>\n",
       "      <td>62.4</td>\n",
       "      <td>98.8</td>\n",
       "      <td>57.0</td>\n",
       "      <td>95.0</td>\n",
       "      <td>49.8</td>\n",
       "      <td>73.0</td>\n",
       "      <td>9,666</td>\n",
       "      <td>10.5</td>\n",
       "      <td>54%</td>\n",
       "      <td>27 : 73</td>\n",
       "      <td>2013</td>\n",
       "    </tr>\n",
       "    <tr>\n",
       "      <th>1038</th>\n",
       "      <td>37</td>\n",
       "      <td>École Polytechnique Fédérale de Lausanne</td>\n",
       "      <td>Switzerland</td>\n",
       "      <td>52.9</td>\n",
       "      <td>98.2</td>\n",
       "      <td>48.3</td>\n",
       "      <td>95.9</td>\n",
       "      <td>49.2</td>\n",
       "      <td>67.7</td>\n",
       "      <td>9,666</td>\n",
       "      <td>10.5</td>\n",
       "      <td>54%</td>\n",
       "      <td>27 : 73</td>\n",
       "      <td>2014</td>\n",
       "    </tr>\n",
       "    <tr>\n",
       "      <th>1436</th>\n",
       "      <td>34</td>\n",
       "      <td>École Polytechnique Fédérale de Lausanne</td>\n",
       "      <td>Switzerland</td>\n",
       "      <td>54.7</td>\n",
       "      <td>98.8</td>\n",
       "      <td>56.9</td>\n",
       "      <td>95.0</td>\n",
       "      <td>61.9</td>\n",
       "      <td>70.9</td>\n",
       "      <td>9,666</td>\n",
       "      <td>10.5</td>\n",
       "      <td>54%</td>\n",
       "      <td>27 : 73</td>\n",
       "      <td>2015</td>\n",
       "    </tr>\n",
       "  </tbody>\n",
       "</table>\n",
       "</div>"
      ],
      "text/plain": [
       "     world_rank                           university_name      country  \\\n",
       "47           48  École Polytechnique Fédérale de Lausanne  Switzerland   \n",
       "245          46  École Polytechnique Fédérale de Lausanne  Switzerland   \n",
       "641          40  École Polytechnique Fédérale de Lausanne  Switzerland   \n",
       "1038         37  École Polytechnique Fédérale de Lausanne  Switzerland   \n",
       "1436         34  École Polytechnique Fédérale de Lausanne  Switzerland   \n",
       "\n",
       "      teaching international  research  citations income total_score  \\\n",
       "47        55.0         100.0      56.1       83.8   38.0        66.5   \n",
       "245       53.1          98.9      43.9       95.3   46.7        66.3   \n",
       "641       62.4          98.8      57.0       95.0   49.8        73.0   \n",
       "1038      52.9          98.2      48.3       95.9   49.2        67.7   \n",
       "1436      54.7          98.8      56.9       95.0   61.9        70.9   \n",
       "\n",
       "     num_students  student_staff_ratio international_students  \\\n",
       "47          9,666                 10.5                    54%   \n",
       "245         9,666                 10.5                    54%   \n",
       "641         9,666                 10.5                    54%   \n",
       "1038        9,666                 10.5                    54%   \n",
       "1436        9,666                 10.5                    54%   \n",
       "\n",
       "     female_male_ratio  year  \n",
       "47             27 : 73  2011  \n",
       "245            27 : 73  2012  \n",
       "641            27 : 73  2013  \n",
       "1038           27 : 73  2014  \n",
       "1436           27 : 73  2015  "
      ]
     },
     "execution_count": 4,
     "metadata": {},
     "output_type": "execute_result"
    }
   ],
   "source": [
    "# Read the times data csv from Kaggle\n",
    "times_df = pd.read_csv('./timesData.csv')\n",
    "\n",
    "# Only EPFL rankings\n",
    "times_epfl_df = times_df[times_df['university_name'] == ('École Polytechnique Fédérale de Lausanne')] \n",
    "\n",
    "# Preview of dataset\n",
    "times_epfl_df.head()"
   ]
  },
  {
   "cell_type": "code",
   "execution_count": 5,
   "metadata": {
    "collapsed": false
   },
   "outputs": [
    {
     "data": {
      "image/png": "[encoded data removed]",
      "text/plain": [
       "<matplotlib.figure.Figure at 0x105dfbb50>"
      ]
     },
     "metadata": {},
     "output_type": "display_data"
    }
   ],
   "source": [
    "# Convert data to int and floats\n",
    "times_epfl_df['world_rank'] = times_epfl_df['world_rank'].astype('int64')\n",
    "times_epfl_df['international'] = times_epfl_df['international'].astype('float64')\n",
    "times_epfl_df['income'] = times_epfl_df['income'].astype('float64')\n",
    "times_epfl_df['total_score'] = times_epfl_df['total_score'].astype('float64')\n",
    "\n",
    "# Plot evolution of ranking\n",
    "ax = times_epfl_df.plot(\n",
    "    kind='line', \n",
    "    x='year', \n",
    "    y='world_rank',\n",
    "    xlim=(2011, 2016), \n",
    "    ylim=(1, 60), \n",
    "    xticks=range(2011, 2017)\n",
    ")\n",
    "\n",
    "# Have ints for the labels\n",
    "ax.ticklabel_format(useOffset=False, style='plain')"
   ]
  },
  {
   "cell_type": "code",
   "execution_count": 6,
   "metadata": {
    "collapsed": false
   },
   "outputs": [
    {
     "data": {
      "text/html": [
       "<div>\n",
       "<table border=\"1\" class=\"dataframe\">\n",
       "  <thead>\n",
       "    <tr style=\"text-align: right;\">\n",
       "      <th></th>\n",
       "      <th>total_score</th>\n",
       "      <th>world_rank</th>\n",
       "      <th>year</th>\n",
       "    </tr>\n",
       "  </thead>\n",
       "  <tbody>\n",
       "    <tr>\n",
       "      <th>245</th>\n",
       "      <td>-0.003008</td>\n",
       "      <td>-0.041667</td>\n",
       "      <td>2012</td>\n",
       "    </tr>\n",
       "    <tr>\n",
       "      <th>641</th>\n",
       "      <td>0.101056</td>\n",
       "      <td>-0.130435</td>\n",
       "      <td>2013</td>\n",
       "    </tr>\n",
       "    <tr>\n",
       "      <th>1038</th>\n",
       "      <td>-0.072603</td>\n",
       "      <td>-0.075000</td>\n",
       "      <td>2014</td>\n",
       "    </tr>\n",
       "    <tr>\n",
       "      <th>1436</th>\n",
       "      <td>0.047267</td>\n",
       "      <td>-0.081081</td>\n",
       "      <td>2015</td>\n",
       "    </tr>\n",
       "    <tr>\n",
       "      <th>1833</th>\n",
       "      <td>0.073343</td>\n",
       "      <td>-0.088235</td>\n",
       "      <td>2016</td>\n",
       "    </tr>\n",
       "  </tbody>\n",
       "</table>\n",
       "</div>"
      ],
      "text/plain": [
       "      total_score  world_rank  year\n",
       "245     -0.003008   -0.041667  2012\n",
       "641      0.101056   -0.130435  2013\n",
       "1038    -0.072603   -0.075000  2014\n",
       "1436     0.047267   -0.081081  2015\n",
       "1833     0.073343   -0.088235  2016"
      ]
     },
     "execution_count": 6,
     "metadata": {},
     "output_type": "execute_result"
    },
    {
     "data": {
      "image/png": "[encoded data removed]",
      "text/plain": [
       "<matplotlib.figure.Figure at 0x10ad8e4d0>"
      ]
     },
     "metadata": {},
     "output_type": "display_data"
    }
   ],
   "source": [
    "# Position vs total_score, let's check the relationship of the ranking vs the total score\n",
    "compare_df = times_epfl_df[['total_score', 'world_rank']]\n",
    "\n",
    "percent_df = compare_df.pct_change()\n",
    "percent_df = percent_df.dropna()\n",
    "percent_df['year'] = times_epfl_df['year']\n",
    "\n",
    "# It should be symetrical on the x axis, if the score goes up, the ranking goes down.\n",
    "ax = percent_df.plot(\n",
    "    kind='line', \n",
    "    x='year', \n",
    "    xticks=range(2012, 2017),# hacky\n",
    "    ylim=(-1, 1), \n",
    ")\n",
    "\n",
    "ax.set_xticklabels(['2011-2012', '2012-2013', '2013-2014', '2014-2015', '2015-2016'])\n",
    "\n",
    "percent_df"
   ]
  },
  {
   "cell_type": "code",
   "execution_count": 7,
   "metadata": {
    "collapsed": false
   },
   "outputs": [
    {
     "data": {
      "text/plain": [
       "<matplotlib.legend.Legend at 0x10b623b50>"
      ]
     },
     "execution_count": 7,
     "metadata": {},
     "output_type": "execute_result"
    },
    {
     "data": {
      "image/png": "[encoded data removed]",
      "text/plain": [
       "<matplotlib.figure.Figure at 0x10b6ce310>"
      ]
     },
     "metadata": {},
     "output_type": "display_data"
    }
   ],
   "source": [
    "# Plot evolution of each criteria of the ranking\n",
    "bar_criteria_df = times_epfl_df[['year', 'teaching', 'international', 'research', 'citations', 'income']]\n",
    "ax = bar_criteria_df.plot.bar(\n",
    "    stacked=True,\n",
    "    x='year'\n",
    ")\n",
    "\n",
    "ax.legend(loc=7, bbox_to_anchor=(1.4, 0.5)) # Tweaking until it looks nice, hacky"
   ]
  },
  {
   "cell_type": "code",
   "execution_count": 22,
   "metadata": {
    "collapsed": false
   },
   "outputs": [
    {
     "name": "stdout",
     "output_type": "stream",
     "text": [
      "Pearson correlation for teaching coeff: 0.861916081335\n",
      "Pearson correlation for international coeff: -0.374331934193\n",
      "Pearson correlation for research coeff: 0.8463474757\n",
      "Pearson correlation for citations coeff: 0.373989314643\n",
      "Pearson correlation for income coeff: 0.793809523141\n"
     ]
    }
   ],
   "source": [
    "# Compute the Pearson correlation coefficient \n",
    "# http://www.jmlr.org/papers/volume3/guyon03a/guyon03a.pdf\n",
    "from scipy.stats.stats import pearsonr\n",
    "\n",
    "features = ['teaching', 'international', 'research', 'citations', 'income']\n",
    "target = 'total_score'\n",
    "\n",
    "for feature in features:\n",
    "    coeff = pearsonr(times_epfl_df[feature], times_epfl_df[target])[0]\n",
    "    print 'Pearson correlation for ' + feature + ' coeff: ' + str(coeff)"
   ]
  },
  {
   "cell_type": "code",
   "execution_count": 23,
   "metadata": {
    "collapsed": false
   },
   "outputs": [
    {
     "data": {
      "text/plain": [
       "47      100.0\n",
       "245      98.9\n",
       "641      98.8\n",
       "1038     98.2\n",
       "1436     98.8\n",
       "1833     98.6\n",
       "Name: international, dtype: float64"
      ]
     },
     "execution_count": 23,
     "metadata": {},
     "output_type": "execute_result"
    }
   ],
   "source": [
    "times_epfl_df['international']"
   ]
  },
  {
   "cell_type": "code",
   "execution_count": 24,
   "metadata": {
    "collapsed": false
   },
   "outputs": [
    {
     "data": {
      "text/plain": [
       "47      66.5\n",
       "245     66.3\n",
       "641     73.0\n",
       "1038    67.7\n",
       "1436    70.9\n",
       "1833    76.1\n",
       "Name: total_score, dtype: float64"
      ]
     },
     "execution_count": 24,
     "metadata": {},
     "output_type": "execute_result"
    }
   ],
   "source": [
    "times_epfl_df['total_score']"
   ]
  },
  {
   "cell_type": "code",
   "execution_count": 25,
   "metadata": {
    "collapsed": false
   },
   "outputs": [
    {
     "data": {
      "text/plain": [
       "<seaborn.axisgrid.FacetGrid at 0x10bee5a90>"
      ]
     },
     "execution_count": 25,
     "metadata": {},
     "output_type": "execute_result"
    },
    {
     "data": {
      "image/png": "[encoded data removed]",
      "text/plain": [
       "<matplotlib.figure.Figure at 0x10ba62290>"
      ]
     },
     "metadata": {},
     "output_type": "display_data"
    }
   ],
   "source": [
    "sns.lmplot(x=\"international\", y=\"total_score\", data=times_epfl_df)\n"
   ]
  },
  {
   "cell_type": "code",
   "execution_count": 26,
   "metadata": {
    "collapsed": false
   },
   "outputs": [
    {
     "data": {
      "text/plain": [
       "<seaborn.axisgrid.FacetGrid at 0x10d0b32d0>"
      ]
     },
     "execution_count": 26,
     "metadata": {},
     "output_type": "execute_result"
    },
    {
     "data": {
      "image/png": "[encoded data removed]",
      "text/plain": [
       "<matplotlib.figure.Figure at 0x10d0a33d0>"
      ]
     },
     "metadata": {},
     "output_type": "display_data"
    }
   ],
   "source": [
    "sns.lmplot(x=\"teaching\", y=\"total_score\", data=times_epfl_df)\n"
   ]
  },
  {
   "cell_type": "code",
   "execution_count": 27,
   "metadata": {
    "collapsed": false
   },
   "outputs": [
    {
     "data": {
      "text/plain": [
       "<seaborn.axisgrid.FacetGrid at 0x10d23aa90>"
      ]
     },
     "execution_count": 27,
     "metadata": {},
     "output_type": "execute_result"
    },
    {
     "data": {
      "image/png": "[encoded data removed]",
      "text/plain": [
       "<matplotlib.figure.Figure at 0x10d191690>"
      ]
     },
     "metadata": {},
     "output_type": "display_data"
    }
   ],
   "source": [
    "sns.lmplot(x=\"citations\", y=\"total_score\", data=times_epfl_df)\n"
   ]
  },
  {
   "cell_type": "code",
   "execution_count": 28,
   "metadata": {
    "collapsed": false
   },
   "outputs": [
    {
     "data": {
      "text/plain": [
       "<seaborn.axisgrid.FacetGrid at 0x10d2f4310>"
      ]
     },
     "execution_count": 28,
     "metadata": {},
     "output_type": "execute_result"
    },
    {
     "data": {
      "image/png": "[encoded data removed]",
      "text/plain": [
       "<matplotlib.figure.Figure at 0x10d05c1d0>"
      ]
     },
     "metadata": {},
     "output_type": "display_data"
    }
   ],
   "source": [
    "sns.lmplot(x=\"research\", y=\"total_score\", data=times_epfl_df)\n"
   ]
  },
  {
   "cell_type": "code",
   "execution_count": 29,
   "metadata": {
    "collapsed": false
   },
   "outputs": [
    {
     "data": {
      "text/plain": [
       "<seaborn.axisgrid.FacetGrid at 0x10d700050>"
      ]
     },
     "execution_count": 29,
     "metadata": {},
     "output_type": "execute_result"
    },
    {
     "data": {
      "image/png": "[encoded data removed]",
      "text/plain": [
       "<matplotlib.figure.Figure at 0x10d50a150>"
      ]
     },
     "metadata": {},
     "output_type": "display_data"
    }
   ],
   "source": [
    "sns.lmplot(x=\"income\", y=\"total_score\", data=times_epfl_df)\n"
   ]
  },
  {
   "cell_type": "code",
   "execution_count": null,
   "metadata": {
    "collapsed": true
   },
   "outputs": [],
   "source": []
  }
 ],
 "metadata": {
  "kernelspec": {
   "display_name": "Python 2",
   "language": "python",
   "name": "python2"
  },
  "language_info": {
   "codemirror_mode": {
    "name": "ipython",
    "version": 2
   },
   "file_extension": ".py",
   "mimetype": "text/x-python",
   "name": "python",
   "nbconvert_exporter": "python",
   "pygments_lexer": "ipython2",
   "version": "2.7.11"
  }
 },
 "nbformat": 4,
 "nbformat_minor": 0
}
